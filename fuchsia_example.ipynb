{
 "cells": [
  {
   "cell_type": "code",
   "execution_count": 1,
   "metadata": {},
   "outputs": [],
   "source": [
    "from fuchsia_data import get_link_map\n",
    "\n",
    "exp = get_link_map('exp.map')\n",
    "after = get_link_map('better.map')"
   ]
  },
  {
   "cell_type": "code",
   "execution_count": 2,
   "metadata": {},
   "outputs": [],
   "source": [
    "exp[12].children[24].name\n",
    "after[12].children[24].name\n",
    "\n",
    "from pathlib import Path\n",
    "\n",
    "size5align4 = [x for a in exp[12].children for x in a.children]\n",
    "size5align4 = list(a for a in size5align4 if 'Size5Alignment4' in a.name and 'Decode' in a.name)\n",
    "s5a4_before = \"\\n\".join(f\"{x.size}, {x.name}\" for x in sorted(size5align4, key=lambda a:a.size))\n",
    "\n",
    "size5align4 = [x for a in after[12].children for x in a.children]\n",
    "size5align4 = list(a for a in size5align4 if 'Size5Alignment4' in a.name and 'Decode' in a.name)\n",
    "s5a4_after = \"\\n\".join(f\"{x.size}, {x.name}\" for x in sorted(size5align4, key=lambda a:a.size))"
   ]
  },
  {
   "cell_type": "code",
   "execution_count": 3,
   "metadata": {},
   "outputs": [],
   "source": [
    "shared = set(s5a4_before.splitlines()).intersection(set(s5a4_after.splitlines()))"
   ]
  },
  {
   "cell_type": "code",
   "execution_count": 9,
   "metadata": {},
   "outputs": [
    {
     "name": "stdout",
     "output_type": "stream",
     "text": [
      "5, auto fidl::internal::MakeNaturalTopLevelDecodeFn<test_conformance::Size5Alignment4Vector>()::'lambda'(fidl::internal::NaturalDecoder*, void*, unsigned long, unsigned long)::__invoke(fidl::internal::NaturalDecoder*, void*, unsigned long, unsigned long)\n",
      "59, auto fidl::internal::MakeNaturalTopLevelDecodeFn<test_conformance::Size5Alignment4>()::'lambda'(fidl::internal::NaturalDecoder*, void*, unsigned long, unsigned long)::__invoke(fidl::internal::NaturalDecoder*, void*, unsigned long, unsigned long)\n",
      "83, auto fidl::internal::MakeNaturalTopLevelDecodeFn<test_conformance::Size5Alignment4Array>()::'lambda'(fidl::internal::NaturalDecoder*, void*, unsigned long, unsigned long)::__invoke(fidl::internal::NaturalDecoder*, void*, unsigned long, unsigned long)\n",
      "193, void fidl::internal::NaturalDecodeVectorBody<test_conformance::Size5Alignment4, fidl::internal::NaturalCodingConstraintEmpty>(fidl::internal::NaturalUseStdCopy<false>, fidl::internal::NaturalDecoder*, unsigned long, unsigned long, std::__2::vector<test_conformance::Size5Alignment4, std::__2::allocator<test_conformance::Size5Alignment4>>*, unsigned long, unsigned long)\n",
      "273, fidl::internal::NaturalCodingTraits<std::__2::vector<test_conformance::Size5Alignment4, std::__2::allocator<test_conformance::Size5Alignment4>>, fidl::internal::NaturalCodingConstraintVector<fidl::internal::NaturalCodingConstraintEmpty, 18446744073709551615ul>, void>::Decode(fidl::internal::NaturalDecoder*, std::__2::vector<test_conformance::Size5Alignment4, std::__2::allocator<test_conformance::Size5Alignment4>>*, unsigned long, unsigned long)\n"
     ]
    }
   ],
   "source": [
    "for x in s5a4_before.splitlines():\n",
    "    if x in shared:\n",
    "        continue\n",
    "    print(x)"
   ]
  },
  {
   "cell_type": "code",
   "execution_count": 10,
   "metadata": {},
   "outputs": [
    {
     "name": "stdout",
     "output_type": "stream",
     "text": [
      "5, fidl::internal::NaturalStructCodingTraits<test_conformance::Size5Alignment4Vector, 16ul>::Decode(fidl::internal::NaturalDecoder*, test_conformance::Size5Alignment4Vector*, unsigned long, unsigned long)\n",
      "59, fidl::internal::NaturalStructCodingTraits<test_conformance::Size5Alignment4, 8ul>::Decode(fidl::internal::NaturalDecoder*, test_conformance::Size5Alignment4*, unsigned long, unsigned long)\n",
      "62, fidl::internal::NaturalStructCodingTraits<test_conformance::Size5Alignment4Array, 24ul>::Decode(fidl::internal::NaturalDecoder*, test_conformance::Size5Alignment4Array*, unsigned long, unsigned long)\n",
      "391, fidl::internal::NaturalCodingTraits<std::__2::vector<test_conformance::Size5Alignment4, std::__2::allocator<test_conformance::Size5Alignment4>>, fidl::internal::NaturalCodingConstraintVector<fidl::internal::NaturalCodingConstraintEmpty, 18446744073709551615ul>, void>::Decode(fidl::internal::NaturalDecoder*, std::__2::vector<test_conformance::Size5Alignment4, std::__2::allocator<test_conformance::Size5Alignment4>>*, unsigned long, unsigned long)\n"
     ]
    }
   ],
   "source": [
    "for x in s5a4_after.splitlines():\n",
    "    if x in shared:\n",
    "        continue\n",
    "    print(x)"
   ]
  }
 ],
 "metadata": {
  "kernelspec": {
   "display_name": "Python 3.10.4 64-bit",
   "language": "python",
   "name": "python3"
  },
  "language_info": {
   "codemirror_mode": {
    "name": "ipython",
    "version": 3
   },
   "file_extension": ".py",
   "mimetype": "text/x-python",
   "name": "python",
   "nbconvert_exporter": "python",
   "pygments_lexer": "ipython3",
   "version": "3.10.5"
  },
  "orig_nbformat": 4,
  "vscode": {
   "interpreter": {
    "hash": "8a94588eda9d64d9e9a351ab8144e55b1fabf5113b54e67dd26a8c27df0381b3"
   }
  }
 },
 "nbformat": 4,
 "nbformat_minor": 2
}
